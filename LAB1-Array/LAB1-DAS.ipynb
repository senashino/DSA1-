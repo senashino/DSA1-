{
 "cells": [
  {
   "cell_type": "markdown",
   "metadata": {},
   "source": [
    "### แบบฝึกหัดที่ 1 \n",
    "##### แบบฝึกหัดที่ 1.1 "
   ]
  },
  {
   "cell_type": "code",
   "execution_count": null,
   "metadata": {},
   "outputs": [],
   "source": [
    "#เก็บคะแนน\n",
    "scores = [0] * 5\n",
    "\n",
    "for i in range(5):\n",
    "    scores[i] = float(input(f\"กรุณากรอกคะแนนของนักเรียนคนที่ {i+1}: \"))\n",
    "print(f\"\\nคะแนนสอบของนักเรียน 5 คน: {scores}\")\n",
    "\n",
    "#คำนวณหาค่าเฉลี่ยคะแนน\n",
    "total_score = 0\n",
    "for score in scores:\n",
    "    total_score += score\n",
    "average_score = total_score / len(scores)\n",
    "print(f\"ค่าเฉลี่ยของคะแนนนักเรียนทั้ง 5 คน : {average_score:.2f}\")\n",
    "\n",
    "#คำนวณคะแนนสูงสุด ต่ำสุด\n",
    "max_score = scores[0]\n",
    "min_score = scores[0]\n",
    "\n",
    "for score in scores:\n",
    "    if score > max_score:\n",
    "        max_score = score\n",
    "    if score < min_score:\n",
    "        min_score = score\n",
    "\n",
    "print(f\"คะแนนสูงสุดของนักเรียน: {max_score}\")\n",
    "print(f\"คะแนนต่ำสุดของนักเรียน: {min_score}\")\n",
    "\n",
    "#แสดงจำนวนคนที่ได้คะแนนมากกว่าค่าเฉลี่ย\n",
    "above_average_count = 0\n",
    "for score in scores:\n",
    "    if score > average_score:\n",
    "        above_average_count += 1\n",
    "        \n",
    "print(f\"จำนวนคนที่ได้คะแนนมากกว่าค่าเฉลี่ย: {above_average_count}\")\n"
   ]
  },
  {
   "cell_type": "markdown",
   "metadata": {},
   "source": [
    "##### แบบฝึดหัดที่ 1.2 "
   ]
  },
  {
   "cell_type": "code",
   "execution_count": null,
   "metadata": {},
   "outputs": [],
   "source": [
    "#สร้างโปรแกรมจัดการรายชื่อสินค้าในร้านค้า โดยมีฟังก์ชัน\n",
    "\n",
    "products = []\n",
    "\n",
    "#เพิ่มสินค้าใหม่\n",
    "def add_product():\n",
    "    name = input(\"กรุณากรอกชื่อสินค้าที่จะเพิ่ม : \")\n",
    "    products.append(name)\n",
    "\n",
    "    print(f\"สินค้าชื่อ '{name}' ถูกเพิ่มเรียบร้อย\")\n",
    "\n",
    "\n",
    "#ลบสินค้าที่หมด\n",
    "def remove_out_of_stock():\n",
    "    name = input(\"กรุณากรอกชื่อสินค้าที่จะลบ (สินค้าที่หมด): \")\n",
    "    if name in products:\n",
    "        products.remove(name)\n",
    "        print(f\"'{name}' ถูกลบเรียบร้อย\")\n",
    "    else:\n",
    "        print(f\"ไม่พบ '{name}' ในรายการสินค้า\")\n",
    "\n",
    "#ค้นหาสินค้า\n",
    "def search_product():\n",
    "    name = input(\"กรุณากรอกชื่อสินค้าที่ต้องการค้นหา : \")\n",
    "    if name in products:\n",
    "        print(f\"พบสินค้าที่ชื่อ '{name}' ในร้านค้า\")\n",
    "    else:\n",
    "        print(f\"ไม่พบสินค้าที่ชื่อ '{name}' ในร้านค้า\")\n",
    "\n",
    "# ฟังก์ชันแสดงรายการสินค้าทั้งหมด\n",
    "def display_products():\n",
    "    if len(products) > 0:\n",
    "        print(\"รายการสินค้าทั้งหมด:\")\n",
    "        for product in products:\n",
    "            print(f\"- {product}\")\n",
    "    else:\n",
    "        print(\"ไม่มีสินค้าภายในร้านค้า\")\n",
    "\n",
    "\n",
    "def main():\n",
    "    while True:\n",
    "        print(\"\\n โปรแกรมจัดการร้านค้า\")\n",
    "        print(\"1. เพิ่มสินค้าใหม่\")\n",
    "        print(\"2. ลบสินค้าที่หมด\")\n",
    "        print(\"3. ค้นหาสินค้า\")\n",
    "        print(\"4. แสดงรายการสินค้าทั้งหมด\")\n",
    "        print(\"5. ออกจากโปรแกรม\")\n",
    "\n",
    "        choice = input(\"กรุณาเลือกตัวเลือก 1-5 : \")\n",
    "\n",
    "        if choice == '1':\n",
    "            add_product ()\n",
    "        elif choice == '2':\n",
    "            remove_out_of_stock ()\n",
    "        elif choice == '3':\n",
    "            search_product ()\n",
    "        elif choice == '4':\n",
    "            display_products ()\n",
    "        elif choice == '5':\n",
    "            print(\"ออกจากโปรแกรม\")\n",
    "            break\n",
    "        else:\n",
    "            print(\"ตัวเลือกไม่ถูกต้อง, กรุณาเลือกตัวเลือก 1-5 \")        \n",
    "main()"
   ]
  },
  {
   "cell_type": "markdown",
   "metadata": {},
   "source": [
    "### แบบฝึกหัดที่ 2 \n",
    "##### แบบฝึกหัดที่ 2.1 "
   ]
  },
  {
   "cell_type": "code",
   "execution_count": null,
   "metadata": {},
   "outputs": [],
   "source": []
  }
 ],
 "metadata": {
  "kernelspec": {
   "display_name": ".venv",
   "language": "python",
   "name": "python3"
  },
  "language_info": {
   "codemirror_mode": {
    "name": "ipython",
    "version": 3
   },
   "file_extension": ".py",
   "mimetype": "text/x-python",
   "name": "python",
   "nbconvert_exporter": "python",
   "pygments_lexer": "ipython3",
   "version": "3.13.1"
  },
  "polyglot_notebook": {
   "kernelInfo": {
    "defaultKernelName": "csharp",
    "items": [
     {
      "aliases": [],
      "languageName": "csharp",
      "name": "csharp"
     }
    ]
   }
  }
 },
 "nbformat": 4,
 "nbformat_minor": 2
}
